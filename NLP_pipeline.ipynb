{
 "cells": [
  {
   "cell_type": "code",
   "execution_count": 6,
   "metadata": {},
   "outputs": [],
   "source": [
    "from utils.extract_pdf_contents import process_pdfs\n",
    "from utils.clean_texts import clean_EU_legal_text, clean_US_legal_text"
   ]
  },
  {
   "cell_type": "markdown",
   "metadata": {},
   "source": [
    "## Research paper NLP Pipeline"
   ]
  },
  {
   "cell_type": "markdown",
   "metadata": {},
   "source": [
    "#### 1. Extract the text from the two pdf documents"
   ]
  },
  {
   "cell_type": "code",
   "execution_count": null,
   "metadata": {},
   "outputs": [
    {
     "name": "stdout",
     "output_type": "stream",
     "text": [
      "Extracted text saved to: data/extracted_text/EU_AI_Act_English.txt\n",
      "Extracted text saved to: data/extracted_text/USA_AI_Executive_Order_English.txt\n"
     ]
    }
   ],
   "source": [
    "# Define the input and output directories\n",
    "input_directory = \"data/raw\"  # Directory containing the PDF files\n",
    "output_directory = \"data/extracted_text\"  # Directory to save the extracted text files\n",
    "\n",
    "\n",
    "# Call the function to process the PDFs\n",
    "process_pdfs(input_directory, output_directory)"
   ]
  },
  {
   "cell_type": "markdown",
   "metadata": {},
   "source": [
    "#### 2. Cleanup the extracted text"
   ]
  },
  {
   "cell_type": "code",
   "execution_count": 7,
   "metadata": {},
   "outputs": [],
   "source": [
    "# First the EU Act\n",
    "\n",
    "# Read the file content and pass it to clean_legal_text\n",
    "with open(\"data/extracted_text/EU_AI_Act_English.txt\", \"r\", encoding=\"utf-8\") as file:\n",
    "    text = file.read()\n",
    "\n",
    "clean_EU_text = clean_EU_legal_text(text)\n",
    "\n",
    "# Save cleaned text to /data/cleaned_text directory\n",
    "with open(\"data/cleaned_text/EU_AI_Act_English_Cleaned.txt\", \"w\", encoding=\"utf-8\") as file:\n",
    "    file.write(clean_EU_text)\n",
    "\n",
    "\n",
    "# Second, the USA AI Executive Order\n",
    "\n",
    "# Read the file content and pass it to clean_legal_text\n",
    "with open(\"data/extracted_text/USA_AI_Executive_Order_English.txt\", \"r\", encoding=\"utf-8\") as file:\n",
    "    text = file.read()\n",
    "    clean_US_text = clean_US_legal_text(text)\n",
    "\n",
    "# Save cleaned text to /data/cleaned_text directory\n",
    "with open(\"data/cleaned_text/USA_AI_Executive_Order_English_Cleaned.txt\", \"w\", encoding=\"utf-8\") as file:\n",
    "    file.write(clean_US_text)"
   ]
  },
  {
   "cell_type": "markdown",
   "metadata": {},
   "source": [
    "#### 3. Tokenize the text"
   ]
  },
  {
   "cell_type": "code",
   "execution_count": null,
   "metadata": {},
   "outputs": [],
   "source": []
  },
  {
   "cell_type": "markdown",
   "metadata": {},
   "source": [
    "#### 4. Text representation via BoW and TF-IDF"
   ]
  },
  {
   "cell_type": "code",
   "execution_count": 8,
   "metadata": {},
   "outputs": [
    {
     "name": "stdout",
     "output_type": "stream",
     "text": [
      "Error reading data/extracted_text/cleaned_text_1.txt: [Errno 2] No such file or directory: 'data/extracted_text/cleaned_text_1.txt'\n",
      "Error reading data/extracted_text/cleaned_text_2.txt: [Errno 2] No such file or directory: 'data/extracted_text/cleaned_text_2.txt'\n"
     ]
    }
   ],
   "source": [
    "# Import the functions from the script\n",
    "from utils.tokenize_TFIDF import load_text, compute_tfidf, save_tfidf_tokens\n",
    "\n",
    "# Paths to the cleaned text files\n",
    "text_file_1 = \"data/cleaned_text/EU_AI_Act_English_Cleaned.txt\"\n",
    "text_file_2 = \"data/cleaned_text/USA_AI_Executive_Order_English_Cleaned.txt\"\n",
    "\n",
    "# Load the cleaned texts\n",
    "text1 = load_text(text_file_1)\n",
    "text2 = load_text(text_file_2)\n",
    "\n",
    "if text1 and text2:\n",
    "    # Compute TF-IDF\n",
    "    feature_names, tfidf_matrix = compute_tfidf([text1, text2])\n",
    "    \n",
    "    # Save TF-IDF tokens\n",
    "    output_directory = \"data/tfidf_tokens\"\n",
    "    save_tfidf_tokens(output_directory, feature_names, tfidf_matrix)"
   ]
  },
  {
   "cell_type": "markdown",
   "metadata": {},
   "source": [
    "#### 4.2. Text representation through Word2Vec emdeddings"
   ]
  },
  {
   "cell_type": "code",
   "execution_count": null,
   "metadata": {},
   "outputs": [],
   "source": []
  },
  {
   "cell_type": "markdown",
   "metadata": {},
   "source": [
    "#### 4.3. Text representation through OpenAI contextualised embeddings"
   ]
  },
  {
   "cell_type": "code",
   "execution_count": null,
   "metadata": {},
   "outputs": [],
   "source": []
  }
 ],
 "metadata": {
  "kernelspec": {
   "display_name": "nlp",
   "language": "python",
   "name": "python3"
  },
  "language_info": {
   "codemirror_mode": {
    "name": "ipython",
    "version": 3
   },
   "file_extension": ".py",
   "mimetype": "text/x-python",
   "name": "python",
   "nbconvert_exporter": "python",
   "pygments_lexer": "ipython3",
   "version": "3.10.15"
  }
 },
 "nbformat": 4,
 "nbformat_minor": 2
}
