{
 "cells": [
  {
   "cell_type": "code",
   "execution_count": 2,
   "metadata": {},
   "outputs": [],
   "source": [
    "from utils.extract_pdf_contents import process_pdfs\n",
    "from utils.clean_texts import clean_EU_legal_text"
   ]
  },
  {
   "cell_type": "markdown",
   "metadata": {},
   "source": [
    "## Research paper NLP Pipeline"
   ]
  },
  {
   "cell_type": "markdown",
   "metadata": {},
   "source": [
    "#### 1. Extract the text from the two pdf documents"
   ]
  },
  {
   "cell_type": "code",
   "execution_count": null,
   "metadata": {},
   "outputs": [
    {
     "name": "stdout",
     "output_type": "stream",
     "text": [
      "Extracted text saved to: data/extracted_text/EU_AI_Act_English.txt\n",
      "Extracted text saved to: data/extracted_text/USA_AI_Executive_Order_English.txt\n"
     ]
    }
   ],
   "source": [
    "# Define the input and output directories\n",
    "input_directory = \"data/raw\"  # Directory containing the PDF files\n",
    "output_directory = \"data/extracted_text\"  # Directory to save the extracted text files\n",
    "\n",
    "\n",
    "# Call the function to process the PDFs\n",
    "process_pdfs(input_directory, output_directory)"
   ]
  },
  {
   "cell_type": "markdown",
   "metadata": {},
   "source": [
    "#### 2. Cleanup the extracted text"
   ]
  },
  {
   "cell_type": "code",
   "execution_count": 3,
   "metadata": {},
   "outputs": [],
   "source": [
    "# First the EU Act\n",
    "\n",
    "# Read the file content and pass it to clean_legal_text\n",
    "with open(\"data/extracted_text/EU_AI_Act_English.txt\", \"r\", encoding=\"utf-8\") as file:\n",
    "    text = file.read()\n",
    "\n",
    "clean_text = clean_EU_legal_text(text)\n",
    "\n",
    "# Save cleaned text to /data/cleaned_text directory\n",
    "with open(\"data/cleaned_text/EU_AI_Act_English_Cleaned.txt\", \"w\", encoding=\"utf-8\") as file:\n",
    "    file.write(clean_text)\n",
    "\n",
    "\n",
    "# Second, the USA AI Executive Order"
   ]
  },
  {
   "cell_type": "markdown",
   "metadata": {},
   "source": [
    "#### 3. Tokenize the text"
   ]
  },
  {
   "cell_type": "code",
   "execution_count": null,
   "metadata": {},
   "outputs": [],
   "source": []
  },
  {
   "cell_type": "markdown",
   "metadata": {},
   "source": [
    "#### 4. Text representation via BoW and TF-IDF"
   ]
  },
  {
   "cell_type": "code",
   "execution_count": null,
   "metadata": {},
   "outputs": [],
   "source": []
  },
  {
   "cell_type": "markdown",
   "metadata": {},
   "source": [
    "#### 4.2. Text representation through Word2Vec emdeddings"
   ]
  },
  {
   "cell_type": "code",
   "execution_count": null,
   "metadata": {},
   "outputs": [],
   "source": []
  },
  {
   "cell_type": "markdown",
   "metadata": {},
   "source": [
    "#### 4.3. Text representation through OpenAI contextualised embeddings"
   ]
  },
  {
   "cell_type": "code",
   "execution_count": null,
   "metadata": {},
   "outputs": [],
   "source": []
  }
 ],
 "metadata": {
  "kernelspec": {
   "display_name": "nlp",
   "language": "python",
   "name": "python3"
  },
  "language_info": {
   "codemirror_mode": {
    "name": "ipython",
    "version": 3
   },
   "file_extension": ".py",
   "mimetype": "text/x-python",
   "name": "python",
   "nbconvert_exporter": "python",
   "pygments_lexer": "ipython3",
   "version": "3.10.15"
  }
 },
 "nbformat": 4,
 "nbformat_minor": 2
}
